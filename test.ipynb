{
 "cells": [
  {
   "cell_type": "code",
   "execution_count": 1,
   "metadata": {},
   "outputs": [],
   "source": [
    "import pandas as pd\n",
    "import numpy as np"
   ]
  },
  {
   "cell_type": "code",
   "execution_count": 19,
   "metadata": {},
   "outputs": [
    {
     "name": "stdout",
     "output_type": "stream",
     "text": [
      "1.0    938885\n",
      "2.0     31053\n",
      "3.0     16497\n",
      "4.0      6466\n",
      "5.0      1992\n",
      "6.0       515\n",
      "Name: 요단백, dtype: int64\n"
     ]
    }
   ],
   "source": [
    "df_17 = pd.read_csv('../PBL/dataset/NHIS_2017_2018_100m/NHIS_OPEN_GJ_2017_100.csv', encoding='euc-kr')\n",
    "df_18 = pd.read_csv('../PBL/dataset/NHIS_2017_2018_100m/NHIS_OPEN_GJ_2018_100.csv')\n",
    "\n",
    "print(df_17[\"요단백\"].value_counts())"
   ]
  },
  {
   "cell_type": "code",
   "execution_count": 3,
   "metadata": {},
   "outputs": [],
   "source": [
    "valid_17 = df_17.loc[df_17['식전혈당(공복혈당)'] <= 300]\n",
    "valid_18 = df_18.loc[df_18['식전혈당(공복혈당)'] <= 300]"
   ]
  },
  {
   "cell_type": "code",
   "execution_count": 4,
   "metadata": {},
   "outputs": [],
   "source": [
    "valid_df = valid_17.append(valid_18)\n",
    "valid_df.dropna(subset=['식전혈당(공복혈당)'], inplace=True)"
   ]
  },
  {
   "cell_type": "code",
   "execution_count": 5,
   "metadata": {},
   "outputs": [],
   "source": [
    "def get_col_num(df):\n",
    "    return df.columns.size"
   ]
  },
  {
   "cell_type": "code",
   "execution_count": 6,
   "metadata": {},
   "outputs": [],
   "source": [
    "def get_row_num(df):\n",
    "    return df.size / get_col_num(df)"
   ]
  },
  {
   "cell_type": "code",
   "execution_count": 7,
   "metadata": {},
   "outputs": [],
   "source": [
    "def get_entropy(px):\n",
    "    if px == 0:\n",
    "        return 0;\n",
    "    return px * np.log2(px)"
   ]
  },
  {
   "cell_type": "code",
   "execution_count": 8,
   "metadata": {},
   "outputs": [],
   "source": [
    "def getParentEntropy(dataFrame) :\n",
    "    row_num = get_row_num(dataFrame)\n",
    "    col_num = get_col_num(dataFrame)\n",
    "    idx = pd.RangeIndex(start=0, stop=row_num)\n",
    "    dataFrame.index=idx\n",
    "    confirmed_person = dataFrame.loc[dataFrame[\"식전혈당(공복혈당)\"] >= 126]\n",
    "    confirmed_mask = dataFrame[\"식전혈당(공복혈당)\"] >= 126\n",
    "    confirmed_size = confirmed_person.size / col_num\n",
    "    unconfirmed_person = dataFrame.loc[dataFrame[\"식전혈당(공복혈당)\"] < 126]\n",
    "    unconfirmed_size = row_num - confirmed_size\n",
    "    confirmed_px_root = confirmed_size / row_num\n",
    "    unconfirmed_px_root = 1 - confirmed_px_root\n",
    "    entropy_root = -1 * (get_entropy(confirmed_px_root) + get_entropy(unconfirmed_px_root))\n",
    "    return entropy_root"
   ]
  },
  {
   "cell_type": "code",
   "execution_count": 9,
   "metadata": {},
   "outputs": [],
   "source": [
    "def getIG(dataFrame, col_name, value_list):\n",
    "    sum_entropy = 0\n",
    "    col_num = get_col_num(dataFrame)\n",
    "    row_num = get_row_num(dataFrame)\n",
    "    for val in value_list:\n",
    "        df = dataFrame.loc[dataFrame[col_name] == val]\n",
    "        df_size = df.size / col_num\n",
    "        \n",
    "        Y_df = df.loc[df[\"식전혈당(공복혈당)\"] >= 126]\n",
    "        \n",
    "        Y_df_size = Y_df.size / col_num\n",
    "        \n",
    "        Y_px = Y_df_size / df_size\n",
    "        N_px = 1 - Y_px\n",
    "        rtn = -1 * (get_entropy(Y_px) + get_entropy(N_px))\n",
    "        sum_entropy += rtn * (df_size / row_num)\n",
    "    print(\"엔트로피:\", sum_entropy)\n",
    "    return getParentEntropy(dataFrame) - sum_entropy"
   ]
  },
  {
   "cell_type": "code",
   "execution_count": 10,
   "metadata": {},
   "outputs": [],
   "source": [
    "def getRangeIG(dataFrame, col_name, range_list):\n",
    "    sum_entropy = 0\n",
    "    prev_ran = 0\n",
    "    col_num = get_col_num(dataFrame)\n",
    "    row_num = get_row_num(dataFrame)\n",
    "    for ran in range_list:\n",
    "        df = dataFrame.loc[dataFrame[col_name] > prev_ran]\n",
    "        df = df.loc[df[col_name] <= ran] \n",
    "        df_size = df.size / col_num\n",
    "        \n",
    "        Y_df = df.loc[df[\"식전혈당(공복혈당)\"] >= 126]\n",
    "        \n",
    "        Y_df_size = Y_df.size / col_num\n",
    "        \n",
    "        Y_px = Y_df_size / df_size\n",
    "        N_px = 1 - Y_px\n",
    "        \n",
    "        rtn = -1 * (get_entropy(Y_px) + get_entropy(N_px))\n",
    "        sum_entropy += rtn * (df_size / row_num)\n",
    "        prev_ran = ran\n",
    "    print(\"엔트로피: \", sum_entropy)\n",
    "    return getParentEntropy(dataFrame) - sum_entropy"
   ]
  },
  {
   "cell_type": "code",
   "execution_count": 11,
   "metadata": {},
   "outputs": [
    {
     "name": "stdout",
     "output_type": "stream",
     "text": [
      "엔트로피: 0.3867554444550354\n",
      "정보획득량:  0.003918456695817585\n"
     ]
    }
   ],
   "source": [
    "# print(valid_df[\"성별코드\"].unique())\n",
    "print(\"정보획득량: \" , getIG(valid_df, \"성별코드\", valid_df[\"성별코드\"].unique()))"
   ]
  },
  {
   "cell_type": "code",
   "execution_count": 12,
   "metadata": {},
   "outputs": [
    {
     "name": "stdout",
     "output_type": "stream",
     "text": [
      "엔트로피: 0.3672852841699641\n",
      "정보획득량:  0.0233886169808889\n"
     ]
    }
   ],
   "source": [
    "# print(valid_df[\"연령대코드(5세단위)\"].unique())\n",
    "print(\"정보획득량: \", getIG(valid_df, \"연령대코드(5세단위)\", valid_df[\"연령대코드(5세단위)\"].unique()))"
   ]
  },
  {
   "cell_type": "code",
   "execution_count": 13,
   "metadata": {},
   "outputs": [
    {
     "name": "stdout",
     "output_type": "stream",
     "text": [
      "엔트로피: 0.3893746207368564\n",
      "정보획득량:  0.001299280413996573\n"
     ]
    }
   ],
   "source": [
    "# print(valid_df[\"신장(5Cm단위)\"].unique())\n",
    "print(\"정보획득량: \", getIG(valid_df, \"신장(5Cm단위)\", valid_df[\"신장(5Cm단위)\"].unique()))"
   ]
  },
  {
   "cell_type": "code",
   "execution_count": 17,
   "metadata": {},
   "outputs": [
    {
     "name": "stdout",
     "output_type": "stream",
     "text": [
      "엔트로피: 0.38504130729357705\n",
      "정보획득량:  0.0056931401643051105\n"
     ]
    }
   ],
   "source": [
    "print(\"정보획득량: \", getIG(valid_df, \"체중(5Kg단위)\", valid_df[\"체중(5Kg단위)\"].unique()))"
   ]
  },
  {
   "cell_type": "code",
   "execution_count": 15,
   "metadata": {},
   "outputs": [
    {
     "name": "stdout",
     "output_type": "stream",
     "text": [
      "엔트로피:  0.3787294284942003\n",
      "정보획득량:  0.01194447265665266\n"
     ]
    }
   ],
   "source": [
    "bmi_ref = valid_df.loc[:,[\"체중(5Kg단위)\", \"신장(5Cm단위)\"]]\n",
    "bmi_df = (bmi_ref[\"체중(5Kg단위)\"] / ((bmi_ref[\"신장(5Cm단위)\"]/100)**2))\n",
    "bmi_df = round(bmi_df)\n",
    "\n",
    "copy_df_bmi = valid_df\n",
    "copy_df_bmi.insert(get_col_num(copy_df_bmi), 'BMI', bmi_df)\n",
    "\n",
    "bmi_list = [24.9, 29.9, 34.9]\n",
    "\n",
    "print(\"정보획득량: \", getRangeIG(copy_df_bmi, \"BMI\", bmi_list))"
   ]
  },
  {
   "cell_type": "code",
   "execution_count": 16,
   "metadata": {},
   "outputs": [
    {
     "name": "stdout",
     "output_type": "stream",
     "text": [
      "엔트로피:  0.3718847314419549\n",
      "정보획득량:  0.017810867741973213\n"
     ]
    }
   ],
   "source": [
    "copy_df_waist = valid_df\n",
    "copy_df_waist.dropna(subset=[\"허리둘레\"], inplace=True)\n",
    "copy_df_waist = copy_df_waist.loc[copy_df_waist[\"허리둘레\"] >= 35]\n",
    "copy_df_waist = copy_df_waist.loc[copy_df_waist[\"허리둘레\"] <= 111.76]\n",
    "\n",
    "waist_list = [66.04, 71.12, 78.74, 83.82, 104.14, 106.68, 111.76]\n",
    "\n",
    "print(\"정보획득량: \", getRangeIG(copy_df_waist, \"허리둘레\", waist_list))"
   ]
  },
  {
   "cell_type": "code",
   "execution_count": null,
   "metadata": {},
   "outputs": [],
   "source": [
    "# valid_df[\"성별코드\"].unique()\n",
    "# valid_df[\"연령대코드(5세단위)\"].unique()\n",
    "# valid_df[\"신장(5Cm단위)\"].unique()\n",
    "# valid_df[\"체중(5Kg단위)\"].unique()\n",
    "\n",
    "# valid_df.dropna(subset=[\"허리둘레\"], inplace=True)\n",
    "# valid_df = valid_df.loc[valid_df[\"허리둘레\"] >= 35]\n",
    "# valid_df = valid_df.loc[valid_df[\"허리둘레\"] <= 111.76]\n",
    "# valid_df[\"허리둘레\"].unique()"
   ]
  }
 ],
 "metadata": {
  "kernelspec": {
   "display_name": "Python 3",
   "language": "python",
   "name": "python3"
  },
  "language_info": {
   "codemirror_mode": {
    "name": "ipython",
    "version": 3
   },
   "file_extension": ".py",
   "mimetype": "text/x-python",
   "name": "python",
   "nbconvert_exporter": "python",
   "pygments_lexer": "ipython3",
   "version": "3.8.5"
  }
 },
 "nbformat": 4,
 "nbformat_minor": 4
}
